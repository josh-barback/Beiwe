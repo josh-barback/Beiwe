{
 "cells": [
  {
   "cell_type": "markdown",
   "metadata": {},
   "source": [
    "Josh Barback  \n",
    "`barback@fas.harvard.edu`  \n",
    "Onnela Lab, Harvard T. H. Chan School of Public Health  "
   ]
  },
  {
   "cell_type": "markdown",
   "metadata": {},
   "source": [
    "# Managing raw Beiwe data\n",
    "\n",
    "This notebook provides an overview of some features of the `beiwetools.manage` subpackage.  These modules provide tools for handling user identifier files and for creating registries of raw Beiwe data.  Before reviewing this notebook, you may wish to look at `configread_example.ipynb`.\n",
    "\n",
    "These examples include code for the following tasks:\n",
    "\n",
    "1. Creating a registry for a directory of raw data,\n",
    "2. Creating a registry for multiple directories,\n",
    "3. \n",
    "4. Plotting a summary of data collection.\n",
    "\n",
    "We'll use the publicly available Beiwe data set found at:  \n",
    "```\n",
    "https://zenodo.org/record/1188879#.XcDUyHWYW02\n",
    "```\n",
    "\n",
    "Begin by downloading and extracting `data.zip`.\n",
    "\n",
    "\n"
   ]
  },
  {
   "cell_type": "code",
   "execution_count": 1,
   "metadata": {},
   "outputs": [],
   "source": [
    "import os\n",
    "from beiwetools.manage import BeiweProject\n",
    "from beiwetools.configread import BeiweConfig"
   ]
  },
  {
   "cell_type": "code",
   "execution_count": null,
   "metadata": {},
   "outputs": [],
   "source": [
    "# Set the path to the folder containing the raw data directories:\n",
    "data_directory = '/home/josh/Desktop/Beiwe_test_data/data' # change as needed\n",
    "\n",
    "# Sample configuration files are located in examples/configuration_files:\n",
    "examples_directory = os.getcwd() # change as needed\n",
    "configuration_directory = os.path.join(examples_directory, 'configuration_files')\n",
    "\n",
    "# Choose a directory for test ouput:\n",
    "test_directory = os.path.join(examples_directory, 'test') # change as needed"
   ]
  },
  {
   "cell_type": "code",
   "execution_count": null,
   "metadata": {},
   "outputs": [],
   "source": [
    "# Match "
   ]
  },
  {
   "cell_type": "markdown",
   "metadata": {},
   "source": [
    "### 1.  Creating a registry for a directory of raw data"
   ]
  },
  {
   "cell_type": "code",
   "execution_count": 2,
   "metadata": {},
   "outputs": [],
   "source": [
    "\n",
    "'onnela_lab_ios_test2'\n",
    "\n",
    "# The corresponding configuration :\n",
    "configuration_filename = 'json file from a generic Beiwe study.json'\n",
    "configuration_path = os.path.join(configuration_directory, configuration_filename)\n",
    "\n"
   ]
  },
  {
   "cell_type": "code",
   "execution_count": 3,
   "metadata": {},
   "outputs": [],
   "source": [
    "# Read the configuration file into a BeiweConfig object:\n",
    "config = BeiweConfig(configuration_path)"
   ]
  },
  {
   "cell_type": "code",
   "execution_count": null,
   "metadata": {},
   "outputs": [],
   "source": []
  },
  {
   "cell_type": "code",
   "execution_count": null,
   "metadata": {},
   "outputs": [],
   "source": [
    "# If desired, uncomment the following lines and delete the test output directory:\n",
    "# import shutil\n",
    "# shutil.rmtree(test_directory)"
   ]
  }
 ],
 "metadata": {
  "kernelspec": {
   "display_name": "Python 3",
   "language": "python",
   "name": "python3"
  },
  "language_info": {
   "codemirror_mode": {
    "name": "ipython",
    "version": 3
   },
   "file_extension": ".py",
   "mimetype": "text/x-python",
   "name": "python",
   "nbconvert_exporter": "python",
   "pygments_lexer": "ipython3",
   "version": "3.7.4"
  }
 },
 "nbformat": 4,
 "nbformat_minor": 2
}
