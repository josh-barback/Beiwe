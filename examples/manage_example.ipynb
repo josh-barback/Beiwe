{
 "cells": [
  {
   "cell_type": "markdown",
   "metadata": {},
   "source": [
    "Josh Barback  \n",
    "`barback@fas.harvard.edu`  \n",
    "Onnela Lab, Harvard T. H. Chan School of Public Health  "
   ]
  },
  {
   "cell_type": "markdown",
   "metadata": {},
   "source": [
    "# Managing raw Beiwe data\n",
    "\n",
    "This notebook provides an overview of some features of the `beiwetools.manage` subpackage.  These modules provide tools for handling user identifier files, and for creating registries of raw Beiwe data.\n",
    "\n",
    "These examples include code for the following tasks:\n",
    "\n",
    "1. \n",
    "2.\n",
    "3.\n",
    "4.\n",
    "\n",
    "\n",
    "\n",
    "We'll use the publicly available Beiwe data set found at:  `https://zenodo.org/record/1188879#.XcDUyHWYW02`\n",
    "\n",
    "Begin by downloading and extracting `data.zip`.\n",
    "\n",
    "\n",
    "### 1. "
   ]
  },
  {
   "cell_type": "code",
   "execution_count": 1,
   "metadata": {},
   "outputs": [],
   "source": [
    "import os\n",
    "from beiwetools.manage import \n",
    "from beiwetools.configread import BeiweConfig"
   ]
  },
  {
   "cell_type": "code",
   "execution_count": 2,
   "metadata": {},
   "outputs": [],
   "source": [
    "# Sample configuration files are located in examples/configuration_files.\n",
    "examples_directory = os.getcwd() # change as needed\n",
    "configuration_directory = os.path.join(examples_directory, 'configuration_files')\n",
    "\n",
    "# We'll be looking at the following configuration file:\n",
    "configuration_filename = 'json file from a generic Beiwe study.json'\n",
    "configuration_path = os.path.join(configuration_directory, configuration_filename)\n",
    "\n",
    "# Choose a directory for test ouput:\n",
    "test_directory = os.path.join(examples_directory, 'test') # change as needed"
   ]
  },
  {
   "cell_type": "code",
   "execution_count": 3,
   "metadata": {},
   "outputs": [],
   "source": [
    "# Read the configuration file into a BeiweConfig object:\n",
    "config = BeiweConfig(configuration_path)"
   ]
  }
 ],
 "metadata": {
  "kernelspec": {
   "display_name": "Python 3",
   "language": "python",
   "name": "python3"
  },
  "language_info": {
   "codemirror_mode": {
    "name": "ipython",
    "version": 3
   },
   "file_extension": ".py",
   "mimetype": "text/x-python",
   "name": "python",
   "nbconvert_exporter": "python",
   "pygments_lexer": "ipython3",
   "version": "3.7.4"
  }
 },
 "nbformat": 4,
 "nbformat_minor": 2
}
