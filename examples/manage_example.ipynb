{
 "cells": [
  {
   "cell_type": "markdown",
   "metadata": {},
   "source": [
    "Josh Barback  \n",
    "`barback@fas.harvard.edu`  \n",
    "Onnela Lab, Harvard T. H. Chan School of Public Health  "
   ]
  },
  {
   "cell_type": "markdown",
   "metadata": {},
   "source": [
    "# Managing raw Beiwe data\n",
    "\n",
    "This notebook provides an overview of some features of the `beiwetools.manage` subpackage.  These modules provide tools for handling user identifier files and for creating registries of raw Beiwe data.  Before reviewing this notebook, you may wish to look at `configread_example.ipynb`.\n",
    "\n",
    "Code is provided for two example tasks:\n",
    "1. Create a registry for a single directory of raw data,\n",
    "2. Create a registry for multiple directories.\n",
    "\n",
    "In addition to creating registries, these two examples demonstrate how to:  \n",
    "* Manage user names and object names,\n",
    "* Review numerical summaries of raw user data,\n",
    "* Plot summaries of data collection,\n",
    "* Save and reload a raw data registry.\n",
    "\n",
    "We'll use the publicly available Beiwe data set found here:  [https://zenodo.org/record/1188879#.XcDUyHWYW02](https://zenodo.org/record/1188879#.XcDUyHWYW02)\n",
    "\n",
    "Begin by downloading and extracting `data.zip`."
   ]
  },
  {
   "cell_type": "code",
   "execution_count": 1,
   "metadata": {},
   "outputs": [],
   "source": [
    "import os\n",
    "from beiwetools.manage import BeiweProject\n",
    "from beiwetools.configread import BeiweConfig"
   ]
  },
  {
   "cell_type": "code",
   "execution_count": 2,
   "metadata": {},
   "outputs": [],
   "source": [
    "# Report logging messages:\n",
    "import logging\n",
    "logging.basicConfig(level=logging.INFO)"
   ]
  },
  {
   "cell_type": "code",
   "execution_count": 3,
   "metadata": {},
   "outputs": [
    {
     "name": "stdout",
     "output_type": "stream",
     "text": [
      "GPS_Test: \n",
      "   Raw Data Directory: onnela_lab_gps_testing \n",
      "   Configuration File: HSPH_Onnela_Lab_GPS_Testing_surveys_and_settings.json \n",
      "\n",
      "iOS_Test_1: \n",
      "   Raw Data Directory: onnela_lab_ios_test1 \n",
      "   Configuration File: HSPH_Onnela_Lab_iOS_Test_Study_1_surveys_and_settings.json \n",
      "\n",
      "iOS_Test_2: \n",
      "   Raw Data Directory: onnela_lab_ios_test2 \n",
      "   Configuration File: HSPH_Onnela_Lab_iOS_Test_Study_2_surveys_and_settings.json \n",
      "\n",
      "Test_Study: \n",
      "   Raw Data Directory: onnela_lab_test1 \n",
      "   Configuration File: Test_Study_#1_surveys_and_settings.json \n",
      "\n",
      "Hi_Sample: \n",
      "   Raw Data Directory: passive_data_high_sampling \n",
      "   Configuration File: HSPH_Onnela_Lab_Passive_Data_High_Sampling_surveys_and_settings.json \n",
      "\n"
     ]
    }
   ],
   "source": [
    "# Set the path to the folder containing the raw data directories:\n",
    "data_dir = '/home/josh/Desktop/Beiwe_test_data/data' # change as needed\n",
    "\n",
    "# Sample configuration files are located in examples/configuration_files:\n",
    "examples_dir = os.getcwd() # change as needed\n",
    "config_dir = os.path.join(examples_dir, 'configuration_files')\n",
    "\n",
    "# Choose a directory for test ouput:\n",
    "test_directory = os.path.join(examples_dir, 'test') # change as needed\n",
    "\n",
    "# Define some study names:\n",
    "study_names = ['GPS_Test', 'iOS_Test_1', 'iOS_Test_2', 'Test_Study', 'Hi_Sample']\n",
    "\n",
    "# Get paths to raw data directories and configuration paths:\n",
    "raw_dirs = sorted([os.path.join(data_dir,   d) for d in os.listdir(data_dir)  ])\n",
    "temp =     sorted([os.path.join(config_dir, f) for f in os.listdir(config_dir)])\n",
    "config_paths = [temp[0], temp[2], temp[3], temp[4], temp[1]]\n",
    "\n",
    "# Match study names with configuration files and raw data directories:\n",
    "config = dict(zip(study_names, config_paths))\n",
    "raw    = dict(zip(study_names, raw_dirs))\n",
    "\n",
    "# Make sure everything lines up:\n",
    "for k in study_names:\n",
    "    r, c = os.path.basename(raw[k]), os.path.basename(config[k])\n",
    "    print('%s: \\n   Raw Data Directory: %s \\n   Configuration File: %s \\n' % (k, r, c))"
   ]
  },
  {
   "cell_type": "markdown",
   "metadata": {},
   "source": [
    "### 1.  Create a registry for a directory of raw data"
   ]
  },
  {
   "cell_type": "code",
   "execution_count": 4,
   "metadata": {},
   "outputs": [
    {
     "name": "stderr",
     "output_type": "stream",
     "text": [
      "INFO:beiwetools.manage.classes:Created raw data registry for Beiwe user ID kiu5hvmv.\n",
      "INFO:beiwetools.manage.classes:Created raw data registry for Beiwe user ID sxvpopdz.\n",
      "INFO:beiwetools.manage.classes:Updated user name assignments.\n",
      "INFO:root:Finished generating study records for 2 of 2 users.\n"
     ]
    }
   ],
   "source": [
    "# First we'll look at data from users in iOS_Test_2.\n",
    "# Load user data records:\n",
    "raw_dir = raw['iOS_Test_2']\n",
    "p = BeiweProject.create(raw_dir)"
   ]
  },
  {
   "cell_type": "code",
   "execution_count": 5,
   "metadata": {},
   "outputs": [
    {
     "name": "stdout",
     "output_type": "stream",
     "text": [
      "\n",
      "\n",
      "----------------------------------------------------------------------\n",
      "Overview\n",
      "----------------------------------------------------------------------\n",
      "    Unique Beiwe Users: 2\n",
      "    Study Name(s): Not found\n",
      "    Raw Data Directories: 1\n",
      "    First Observation: 2016-06-07 18:00:00 UTC\n",
      "    Last  Observation: 2016-06-10 12:00:00 UTC\n",
      "    Project Duration: 2.8 days\n",
      "\n",
      "----------------------------------------------------------------------\n",
      "Device Summary\n",
      "----------------------------------------------------------------------\n",
      "    iPhone Users: 2\n",
      "    Android Users: 0\n",
      "\n",
      "----------------------------------------------------------------------\n",
      "Warning Flags\n",
      "----------------------------------------------------------------------\n",
      "    ignored_users: 0\n",
      "    no_registry: 0\n",
      "    without_data: 0\n",
      "    no_identifiers: 0\n",
      "    irregular_directories: 0\n",
      "    multiple_devices: 0\n",
      "    unknown_os: 0\n",
      "    unnamed_objects: 0\n",
      "\n",
      "----------------------------------------------------------------------\n",
      "Registry Summary\n",
      "----------------------------------------------------------------------\n",
      "    Raw Files: 164\n",
      "    Storage: 96.6 MB\n",
      "    Irregular Directories: 0\n",
      "    Unregistered Files: 0\n",
      "\n",
      "----------------------------------------------------------------------\n",
      "Passive Data\n",
      "----------------------------------------------------------------------\n",
      "\n",
      "                      Files     Storage\n",
      "    accelerometer        48     80.5 MB\n",
      "    gps                  48      1.3 MB\n",
      "    gyro                 48     14.8 MB\n",
      "    identifiers           2   590 Bytes\n",
      "    power_state          15      1.3 kB\n",
      "    proximity             3   460 Bytes\n",
      "\n",
      "----------------------------------------------------------------------\n",
      "Survey Data\n",
      "----------------------------------------------------------------------\n",
      "\n",
      "    survey_answers:\n",
      "                                    Files     Storage\n",
      "        5756e64e1206f73b274d4e54        3      1.4 kB\n",
      "\n",
      "    survey_timings:\n",
      "                                    Files     Storage\n",
      "        5756e64e1206f73b274d4e54        8      5.8 kB\n",
      "        57587d961206f706f213fb8a        2      4.8 kB\n",
      "        57587e411206f706f213fbb8        5      2.1 kB\n",
      "\n"
     ]
    }
   ],
   "source": [
    "# Review the project summary, and make sure there aren't any warning flags:\n",
    "p.summary.print()"
   ]
  },
  {
   "cell_type": "code",
   "execution_count": 6,
   "metadata": {},
   "outputs": [
    {
     "name": "stderr",
     "output_type": "stream",
     "text": [
      "INFO:beiwetools.manage.classes:Finished reading study names.\n",
      "INFO:beiwetools.manage.classes:Finished reading object names.\n",
      "INFO:beiwetools.manage.classes:Updated user name assignments.\n",
      "INFO:beiwetools.manage.classes:Updated project configuration files.\n"
     ]
    },
    {
     "name": "stdout",
     "output_type": "stream",
     "text": [
      "\n",
      "----------------------------------------------------------------------\n",
      "Survey Data\n",
      "----------------------------------------------------------------------\n",
      "\n",
      "    survey_answers:\n",
      "                                    Files     Storage\n",
      "        Survey 5                        3      1.4 kB\n",
      "\n",
      "    survey_timings:\n",
      "                                    Files     Storage\n",
      "        Survey 2                        5      2.1 kB\n",
      "        Survey 3                        2      4.8 kB\n",
      "        Survey 5                        8      5.8 kB\n",
      "\n"
     ]
    }
   ],
   "source": [
    "# To attach a configuration file to the project:\n",
    "config_path = config['iOS_Test_2']\n",
    "p.update_configuration(config_path)\n",
    "\n",
    "# Object identifiers are then replaced with name assignments from the configuration.\n",
    "# For example, here is the updated survey data summary:\n",
    "lines = p.summary.to_string().split('\\n')\n",
    "for i in lines[-15:]: print(i)"
   ]
  },
  {
   "cell_type": "code",
   "execution_count": 7,
   "metadata": {},
   "outputs": [
    {
     "name": "stdout",
     "output_type": "stream",
     "text": [
      "\n",
      "\n",
      "----------------------------------------------------------------------\n",
      "Identifiers\n",
      "----------------------------------------------------------------------\n",
      "    Beiwe User ID: kiu5hvmv\n",
      "    User Name: Not found\n",
      "\n",
      "----------------------------------------------------------------------\n",
      "Raw Data Summary\n",
      "----------------------------------------------------------------------\n",
      "    First Observation: 2016-06-07 18:00:00 UTC\n",
      "    Last  Observation: 2016-06-08 00:00:00 UTC\n",
      "    Observation Period: 0.3 days\n",
      "    Raw Files: 24\n",
      "    Storage: 13.2 MB\n",
      "\n",
      "----------------------------------------------------------------------\n",
      "Device Records\n",
      "----------------------------------------------------------------------\n",
      "    Number of Phones: 1\n",
      "    Phone OS: iOS\n",
      "\n",
      "----------------------------------------------------------------------\n",
      "Registry Issues\n",
      "----------------------------------------------------------------------\n",
      "    Irregular Directories: 0\n",
      "    Unregistered Files: 0\n",
      "\n",
      "----------------------------------------------------------------------\n",
      "Passive Data Summary\n",
      "----------------------------------------------------------------------\n",
      "\n",
      "                      Files    Coverage     Storage\n",
      "    identifiers           1           -   294 Bytes\n",
      "    accelerometer         7        1.00     10.9 MB\n",
      "    gps                   7        1.00    137.2 kB\n",
      "    gyro                  7        1.00      2.1 MB\n",
      "    power_state           1        0.14    71 Bytes\n",
      "    proximity             1           -   121 Bytes\n",
      "\n",
      "----------------------------------------------------------------------\n",
      "Survey Data Summary\n",
      "----------------------------------------------------------------------\n",
      "\n",
      "    survey_answers:\n",
      "                                    Files     Storage\n",
      "        Survey 5                        2   696 Bytes\n",
      "\n",
      "    survey_timings:\n",
      "                                    Files     Storage\n",
      "        Survey 5                        4      4.1 kB\n",
      "\n"
     ]
    }
   ],
   "source": [
    "# We can also review summaries of each user's data records.  \n",
    "# For example, here is a summary of the first user's raw data:\n",
    "i = p.ids[0]\n",
    "p.data[i].summary.print()"
   ]
  },
  {
   "cell_type": "code",
   "execution_count": 9,
   "metadata": {},
   "outputs": [],
   "source": [
    "# To export a project:\n",
    "path = p.export('iOS Test 2', test_directory, track_time = False)"
   ]
  },
  {
   "cell_type": "code",
   "execution_count": 10,
   "metadata": {},
   "outputs": [
    {
     "name": "stderr",
     "output_type": "stream",
     "text": [
      "INFO:beiwetools.manage.classes:Loaded raw data registry for Beiwe user ID kiu5hvmv.\n",
      "INFO:beiwetools.manage.classes:Loaded raw data registry for Beiwe user ID sxvpopdz.\n"
     ]
    },
    {
     "data": {
      "text/plain": [
       "True"
      ]
     },
     "execution_count": 10,
     "metadata": {},
     "output_type": "execute_result"
    }
   ],
   "source": [
    "# We can then reload the project:\n",
    "q = BeiweProject.load(path)\n",
    "\n",
    "# And verify that the projects are the same:\n",
    "p == q"
   ]
  },
  {
   "cell_type": "markdown",
   "metadata": {},
   "source": [
    "### 2.  Create a registry for multiple directories"
   ]
  },
  {
   "cell_type": "code",
   "execution_count": 11,
   "metadata": {},
   "outputs": [
    {
     "name": "stderr",
     "output_type": "stream",
     "text": [
      "WARNING:beiwetools.configread.classes:Found unknown survey type: dummy\n",
      "WARNING:beiwetools.configread.classes:Found unknown survey type: dummy\n",
      "WARNING:beiwetools.configread.classes:Found unknown survey type: dummy\n",
      "INFO:beiwetools.manage.classes:Finished reading study names.\n",
      "WARNING:beiwetools.configread.classes:Found unknown survey type: dummy\n",
      "WARNING:beiwetools.configread.classes:Found unknown survey type: dummy\n",
      "WARNING:beiwetools.configread.classes:Found unknown survey type: dummy\n",
      "WARNING:beiwetools.manage.classes:Study object names are not unique.  Attempting to prefix object names with study names.\n",
      "WARNING:beiwetools.configread.classes:Found unknown survey type: dummy\n",
      "WARNING:beiwetools.configread.classes:Found unknown survey type: dummy\n",
      "WARNING:beiwetools.configread.classes:Found unknown survey type: dummy\n",
      "INFO:beiwetools.manage.classes:Finished reading object names.\n",
      "INFO:beiwetools.manage.classes:Created raw data registry for Beiwe user ID 6b38vskd.\n",
      "INFO:beiwetools.manage.classes:Created raw data registry for Beiwe user ID efy3yeum.\n",
      "INFO:beiwetools.manage.classes:Created raw data registry for Beiwe user ID kiu5hvmv.\n",
      "INFO:beiwetools.manage.classes:Created raw data registry for Beiwe user ID lljhljce.\n",
      "INFO:beiwetools.manage.classes:Created raw data registry for Beiwe user ID sxvpopdz.\n",
      "INFO:beiwetools.manage.classes:Created raw data registry for Beiwe user ID tcqrulfj.\n",
      "INFO:beiwetools.manage.classes:Updated user name assignments.\n",
      "INFO:root:Finished generating study records for 6 of 6 users.\n"
     ]
    }
   ],
   "source": [
    "# In some cases we may wish to merge data from Beiwe users enrolled in muliple studies.\n",
    "# First let's make a dictionary attaching user IDs to configurations:\n",
    "configurations = {}\n",
    "for n in study_names:\n",
    "    ids = os.listdir(raw[n])\n",
    "    configurations.update(zip(ids, [config[n]]*len(ids)))\n",
    "    \n",
    "# And then create a project with these configuration assignments:\n",
    "r = BeiweProject.create(raw_dirs, user_ids = 'all', configuration = configurations)"
   ]
  },
  {
   "cell_type": "code",
   "execution_count": 12,
   "metadata": {},
   "outputs": [
    {
     "name": "stderr",
     "output_type": "stream",
     "text": [
      "WARNING:beiwetools.configread.classes:Found unknown survey type: dummy\n",
      "WARNING:beiwetools.configread.classes:Found unknown survey type: dummy\n",
      "WARNING:beiwetools.configread.classes:Found unknown survey type: dummy\n"
     ]
    },
    {
     "name": "stdout",
     "output_type": "stream",
     "text": [
      "Dummy survey 58b77ae646b9fc10707b0004 from Test Study #1 has been deleted: True\n",
      "Dummy survey 57ffc4ca1206f77c3dfcdfb3 from Test Study #1 has been deleted: True\n",
      "Dummy survey 57ff944e1206f77c3dfcc869 from Test Study #1 has been deleted: True\n"
     ]
    }
   ],
   "source": [
    "# The logs indicate an unknown \"dummy\" survey type.  Let's verify that these are inactive (deleted) surveys:\n",
    "for p in config_paths:\n",
    "    temp = BeiweConfig(p)\n",
    "    for sid in temp.surveys:\n",
    "        s = temp.surveys[sid] \n",
    "        if s.type == 'dummy': \n",
    "            print('Dummy survey %s from %s has been deleted: %s' % (s.identifier, temp.name, str(s.deleted)))"
   ]
  },
  {
   "cell_type": "code",
   "execution_count": 13,
   "metadata": {},
   "outputs": [
    {
     "name": "stdout",
     "output_type": "stream",
     "text": [
      "\n",
      "\n",
      "----------------------------------------------------------------------\n",
      "Overview\n",
      "----------------------------------------------------------------------\n",
      "    Unique Beiwe Users: 6\n",
      "    Study Name(s):\n",
      "        HSPH Onnela Lab GPS Testing\n",
      "        HSPH Onnela Lab Passive Data High Sampling\n",
      "        HSPH Onnela Lab iOS Test Study 1\n",
      "        HSPH Onnela Lab iOS Test Study 2\n",
      "        Test Study #1\n",
      "    Raw Data Directories: 5\n",
      "    First Observation: 2016-01-26 19:00:00 UTC\n",
      "    Last  Observation: 2017-02-13 13:00:00 UTC\n",
      "    Project Duration: 383.8 days\n",
      "\n",
      "----------------------------------------------------------------------\n",
      "Device Summary\n",
      "----------------------------------------------------------------------\n",
      "    iPhone Users: 4\n",
      "    Android Users: 2\n",
      "\n",
      "----------------------------------------------------------------------\n",
      "Warning Flags\n",
      "----------------------------------------------------------------------\n",
      "    ignored_users: 0\n",
      "    no_registry: 0\n",
      "    without_data: 0\n",
      "    no_identifiers: 0\n",
      "    irregular_directories: 0\n",
      "    multiple_devices: 0\n",
      "    unknown_os: 0\n",
      "    unnamed_objects: 0\n",
      "\n",
      "----------------------------------------------------------------------\n",
      "Registry Summary\n",
      "----------------------------------------------------------------------\n",
      "    Raw Files: 18039\n",
      "    Storage: 4.9 GB\n",
      "    Irregular Directories: 0\n",
      "    Unregistered Files: 0\n",
      "\n",
      "----------------------------------------------------------------------\n",
      "Passive Data\n",
      "----------------------------------------------------------------------\n",
      "\n",
      "                      Files     Storage\n",
      "    accelerometer      4741      2.6 GB\n",
      "    app_log            1864     76.9 MB\n",
      "    bluetooth          1470    975.5 MB\n",
      "    calls                 4   659 Bytes\n",
      "    devicemotion          9     33.1 MB\n",
      "    gps                4723    226.0 MB\n",
      "    gyro                 63     18.6 MB\n",
      "    identifiers           6      1.9 kB\n",
      "    magnetometer          9     13.1 MB\n",
      "    power_state        2832      1.3 MB\n",
      "    proximity             9      1.4 kB\n",
      "    reachability        433     59.7 kB\n",
      "    texts                 1   268 Bytes\n",
      "    wifi               1875    996.9 MB\n",
      "\n",
      "----------------------------------------------------------------------\n",
      "Survey Data\n",
      "----------------------------------------------------------------------\n",
      "\n",
      "    survey_answers:\n",
      "                                    Files     Storage\n",
      "        HSPH Onnela Lab GPS Te...       1   195 Bytes\n",
      "        HSPH Onnela Lab Passiv...      30      2.1 kB\n",
      "        HSPH Onnela Lab iOS Te...       3      1.4 kB\n",
      "        Test Study #1 - Survey 3        7      3.2 kB\n",
      "        Test Study #1 - Survey 5        8      4.6 kB\n",
      "\n",
      "    survey_timings:\n",
      "                                    Files     Storage\n",
      "        HSPH Onnela Lab GPS Te...       1   472 Bytes\n",
      "        HSPH Onnela Lab Passiv...      32      8.9 kB\n",
      "        HSPH Onnela Lab iOS Te...       5      2.1 kB\n",
      "        Test Study #1 - Survey 3       13     14.8 kB\n",
      "        Test Study #1 - Survey 5      140     43.6 kB\n",
      "        Test Study #1 - Survey 6      108     33.0 kB\n",
      "\n"
     ]
    }
   ],
   "source": [
    "# As before, review the project summary and warning flags:\n",
    "r.summary.print()"
   ]
  },
  {
   "cell_type": "code",
   "execution_count": 14,
   "metadata": {},
   "outputs": [
    {
     "name": "stderr",
     "output_type": "stream",
     "text": [
      "WARNING:beiwetools.configread.classes:Found unknown survey type: dummy\n",
      "WARNING:beiwetools.configread.classes:Found unknown survey type: dummy\n",
      "WARNING:beiwetools.configread.classes:Found unknown survey type: dummy\n",
      "WARNING:beiwetools.configread.classes:Found unknown survey type: dummy\n",
      "WARNING:beiwetools.configread.classes:Found unknown survey type: dummy\n",
      "WARNING:beiwetools.configread.classes:Found unknown survey type: dummy\n",
      "INFO:beiwetools.manage.classes:Finished reading study names.\n",
      "WARNING:beiwetools.configread.classes:Found unknown survey type: dummy\n",
      "WARNING:beiwetools.configread.classes:Found unknown survey type: dummy\n",
      "WARNING:beiwetools.configread.classes:Found unknown survey type: dummy\n",
      "WARNING:beiwetools.manage.classes:Study object names are not unique.  Attempting to prefix object names with study names.\n",
      "WARNING:beiwetools.configread.classes:Found unknown survey type: dummy\n",
      "WARNING:beiwetools.configread.classes:Found unknown survey type: dummy\n",
      "WARNING:beiwetools.configread.classes:Found unknown survey type: dummy\n",
      "INFO:beiwetools.manage.classes:Finished reading object names.\n",
      "INFO:beiwetools.manage.classes:Updated user name assignments.\n",
      "INFO:beiwetools.manage.classes:Updated project configuration files.\n"
     ]
    },
    {
     "name": "stdout",
     "output_type": "stream",
     "text": [
      "\n",
      "----------------------------------------------------------------------\n",
      "Survey Data\n",
      "----------------------------------------------------------------------\n",
      "\n",
      "    survey_answers:\n",
      "                                    Files     Storage\n",
      "        GPS_Test - Survey 3             1   195 Bytes\n",
      "        Hi_Sample - Survey 1           30      2.1 kB\n",
      "        Test_Study - Survey 3           7      3.2 kB\n",
      "        Test_Study - Survey 5           8      4.6 kB\n",
      "        iOS_Test_1 - Survey 5           2      1.5 kB\n",
      "        iOS_Test_2 - Survey 5           3      1.4 kB\n",
      "\n",
      "    survey_timings:\n",
      "                                    Files     Storage\n",
      "        GPS_Test - Survey 3             1   472 Bytes\n",
      "        Hi_Sample - Survey 1           32      8.9 kB\n",
      "        Test_Study - Survey 3          13     14.8 kB\n",
      "        Test_Study - Survey 5         140     43.6 kB\n",
      "        Test_Study - Survey 6         108     33.0 kB\n",
      "        iOS_Test_1 - Survey 4           3     10.5 kB\n",
      "        iOS_Test_1 - Survey 5           6      2.0 kB\n",
      "        iOS_Test_2 - Survey 2           5      2.1 kB\n",
      "        iOS_Test_2 - Survey 3           2      4.8 kB\n",
      "        iOS_Test_2 - Survey 5           8      5.8 kB\n",
      "\n"
     ]
    }
   ],
   "source": [
    "# From the above survey data summary, we see that survey names were prefixed with study names.\n",
    "# This is done in order to ensure that all names are unique, but legibility isn't great.\n",
    "# Long object names will be cumbersome for plots, survey scores, and documentation.\n",
    "\n",
    "# We can tidy this up a bit. In this case, a fast solution is to first assign some shorter names:\n",
    "new_paths = {}\n",
    "for n in study_names:\n",
    "    temp = BeiweConfig(config[n])    \n",
    "    temp.update_names({temp.name: n})\n",
    "    path = temp.export(test_directory, track_time = False)\n",
    "    new_paths[config[n]] = path\n",
    "\n",
    "# Then update the configuration assignments:    \n",
    "for i in configurations:\n",
    "    configurations[i] = new_paths[configurations[i]]\n",
    "\n",
    "# And finally update the project with the new configuration paths:\n",
    "r.update_configuration(configurations)\n",
    "\n",
    "# Here is what the new names look like:\n",
    "lines = r.summary.to_string().split('\\n')\n",
    "for i in lines[-27:]: print(i)"
   ]
  },
  {
   "cell_type": "code",
   "execution_count": 86,
   "metadata": {},
   "outputs": [],
   "source": [
    "# If desired, uncomment the following lines and delete the test output directory:\n",
    "# import shutil\n",
    "# shutil.rmtree(test_directory)"
   ]
  }
 ],
 "metadata": {
  "kernelspec": {
   "display_name": "Python 3",
   "language": "python",
   "name": "python3"
  },
  "language_info": {
   "codemirror_mode": {
    "name": "ipython",
    "version": 3
   },
   "file_extension": ".py",
   "mimetype": "text/x-python",
   "name": "python",
   "nbconvert_exporter": "python",
   "pygments_lexer": "ipython3",
   "version": "3.7.4"
  }
 },
 "nbformat": 4,
 "nbformat_minor": 2
}
