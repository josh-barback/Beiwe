{
 "cells": [
  {
   "cell_type": "markdown",
   "metadata": {},
   "source": [
    "Josh Barback  \n",
    "`barback@fas.harvard.edu`  \n",
    "Onnela Lab, Harvard T. H. Chan School of Public Health  "
   ]
  },
  {
   "cell_type": "markdown",
   "metadata": {},
   "source": [
    "# Managing raw Beiwe data\n",
    "\n",
    "This notebook provides an overview of some features of the `beiwetools.manage` subpackage.  These modules provide tools for handling user identifier files and for creating registries of raw Beiwe data.  Before reviewing this notebook, you may wish to look at `configread_example.ipynb`.\n",
    "\n",
    "Code is provided for two example tasks:\n",
    "1. Create a registry for a single directory of raw data,\n",
    "2. Create a registry for multiple directories.\n",
    "\n",
    "In addition to creating registries, these two examples demonstrate how to:  \n",
    "* Manage user names and object names,\n",
    "* Review numerical summaries of raw user data,\n",
    "* Plot summaries of data collection,\n",
    "* Save and reload a raw data registry.\n",
    "\n",
    "The examples also show how to use a BeiweProject instance to query:\n",
    "* Study settings,\n",
    "* User device parameters,\n",
    "* Available file paths for a user's data.\n",
    "\n",
    "\n",
    "\n",
    "We'll use the publicly available Beiwe data set found here:  [https://zenodo.org/record/1188879#.XcDUyHWYW02](https://zenodo.org/record/1188879#.XcDUyHWYW02)\n",
    "\n",
    "Begin by downloading and extracting `data.zip`."
   ]
  },
  {
   "cell_type": "code",
   "execution_count": 17,
   "metadata": {},
   "outputs": [],
   "source": [
    "import os\n",
    "from beiwetools.manage import BeiweProject\n",
    "from beiwetools.configread import BeiweConfig"
   ]
  },
  {
   "cell_type": "code",
   "execution_count": 18,
   "metadata": {},
   "outputs": [],
   "source": [
    "# Show logging messages:\n",
    "import logging\n",
    "logging.basicConfig(level=logging.INFO)"
   ]
  },
  {
   "cell_type": "code",
   "execution_count": 19,
   "metadata": {},
   "outputs": [
    {
     "name": "stdout",
     "output_type": "stream",
     "text": [
      "GPS: \n",
      "\tRaw Data Directory: onnela_lab_gps_testing \n",
      "\tConfiguration File: HSPH_Onnela_Lab_GPS_Testing_surveys_and_settings.json \n",
      "\n",
      "iOS1: \n",
      "\tRaw Data Directory: onnela_lab_ios_test1 \n",
      "\tConfiguration File: HSPH_Onnela_Lab_iOS_Test_Study_1_surveys_and_settings.json \n",
      "\n",
      "iOS2: \n",
      "\tRaw Data Directory: onnela_lab_ios_test2 \n",
      "\tConfiguration File: HSPH_Onnela_Lab_iOS_Test_Study_2_surveys_and_settings.json \n",
      "\n",
      "Test: \n",
      "\tRaw Data Directory: onnela_lab_test1 \n",
      "\tConfiguration File: Test_Study_#1_surveys_and_settings.json \n",
      "\n",
      "HiSamp: \n",
      "\tRaw Data Directory: passive_data_high_sampling \n",
      "\tConfiguration File: HSPH_Onnela_Lab_Passive_Data_High_Sampling_surveys_and_settings.json \n",
      "\n"
     ]
    }
   ],
   "source": [
    "# Set the path to the folder containing the raw data directories:\n",
    "data_dir = '/home/josh/Desktop/Beiwe_test_data/data' # change as needed\n",
    "\n",
    "# Sample configuration files are located in examples/configuration_files:\n",
    "examples_dir = os.getcwd() # change as needed\n",
    "config_dir = os.path.join(examples_dir, 'configuration_files')\n",
    "\n",
    "# Choose a directory for test ouput:\n",
    "test_directory = os.path.join(examples_dir, 'test') # change as needed\n",
    "\n",
    "# Define some study names:\n",
    "study_names = ['GPS', 'iOS1', 'iOS2', 'Test', 'HiSamp']\n",
    "\n",
    "# Get paths to raw data directories and configuration paths:\n",
    "raw_dirs = sorted([os.path.join(data_dir,   d) for d in os.listdir(data_dir)  ])\n",
    "temp =     sorted([os.path.join(config_dir, f) for f in os.listdir(config_dir)])\n",
    "config_paths = [temp[0], temp[2], temp[3], temp[4], temp[1]]\n",
    "\n",
    "# Match study names with configuration files and raw data directories:\n",
    "config = dict(zip(study_names, config_paths))\n",
    "raw    = dict(zip(study_names, raw_dirs))\n",
    "\n",
    "# Make sure everything lines up:\n",
    "for k in study_names:\n",
    "    r, c = os.path.basename(raw[k]), os.path.basename(config[k])\n",
    "    print('%s: \\n\\tRaw Data Directory: %s \\n\\tConfiguration File: %s \\n' % (k, r, c))"
   ]
  },
  {
   "cell_type": "markdown",
   "metadata": {},
   "source": [
    "### 1.  Create a registry for a directory of raw data"
   ]
  },
  {
   "cell_type": "code",
   "execution_count": 20,
   "metadata": {},
   "outputs": [
    {
     "name": "stderr",
     "output_type": "stream",
     "text": [
      "INFO:beiwetools.manage.classes:Loaded configuration files.\n",
      "INFO:beiwetools.manage.classes:Created raw data registry for Beiwe user ID kiu5hvmv.\n",
      "INFO:beiwetools.manage.classes:Created raw data registry for Beiwe user ID sxvpopdz.\n",
      "INFO:beiwetools.manage.classes:Updated user name assignments.\n",
      "INFO:root:Finished generating study records for 2 of 2 users.\n"
     ]
    }
   ],
   "source": [
    "# First we'll look at data from users in the second iOS test study.\n",
    "# Create a project from user data records:\n",
    "raw_dir = raw['iOS2']\n",
    "p = BeiweProject.create(raw_dir)"
   ]
  },
  {
   "cell_type": "code",
   "execution_count": 21,
   "metadata": {},
   "outputs": [
    {
     "name": "stdout",
     "output_type": "stream",
     "text": [
      "\n",
      "\n",
      "----------------------------------------------------------------------\n",
      "Overview\n",
      "----------------------------------------------------------------------\n",
      "    Unique Beiwe Users: 2\n",
      "    Study Name(s): Not found\n",
      "    Raw Data Directories: 1\n",
      "    First Observation: 2016-06-07 18:00:00 UTC\n",
      "    Last  Observation: 2016-06-10 12:00:00 UTC\n",
      "    Project Duration: 2.8 days\n",
      "\n",
      "----------------------------------------------------------------------\n",
      "Device Summary\n",
      "----------------------------------------------------------------------\n",
      "    iPhone Users: 2\n",
      "    Android Users: 0\n",
      "\n",
      "----------------------------------------------------------------------\n",
      "Registry Summary\n",
      "----------------------------------------------------------------------\n",
      "    Raw Files: 164\n",
      "    Storage: 96.6 MB\n",
      "    Irregular Directories: 0\n",
      "    Unregistered Files: 0\n",
      "\n",
      "----------------------------------------------------------------------\n",
      "Passive Data\n",
      "----------------------------------------------------------------------\n",
      "\n",
      "                      Files     Storage\n",
      "    accelerometer        48     80.5 MB\n",
      "    gps                  48      1.3 MB\n",
      "    gyro                 48     14.8 MB\n",
      "    identifiers           2   590 Bytes\n",
      "    power_state          15      1.3 kB\n",
      "    proximity             3   460 Bytes\n",
      "\n",
      "----------------------------------------------------------------------\n",
      "Survey Data\n",
      "----------------------------------------------------------------------\n",
      "\n",
      "    survey_answers:\n",
      "                                    Files     Storage\n",
      "        5756e64e1206f73b274d4e54        3      1.4 kB\n",
      "\n",
      "    survey_timings:\n",
      "                                    Files     Storage\n",
      "        5756e64e1206f73b274d4e54        8      5.8 kB\n",
      "        57587d961206f706f213fb8a        2      4.8 kB\n",
      "        57587e411206f706f213fbb8        5      2.1 kB\n",
      "\n",
      "----------------------------------------------------------------------\n",
      "Flagged Identifiers\n",
      "----------------------------------------------------------------------\n",
      "    ignored_users: 0\n",
      "    no_registry: 0\n",
      "    without_data: 0\n",
      "    no_identifiers: 0\n",
      "    irregular_directories: 0\n",
      "    multiple_devices: 0\n",
      "    unknown_os: 0\n",
      "    unnamed_objects: 0\n",
      "\n"
     ]
    }
   ],
   "source": [
    "# Review the project summary, and check how many user or object identifiers have been flagged with warnings:\n",
    "p.summary.print()\n",
    "\n",
    "# Note:  See docstrings for a description of each flag.  Any flagged identifiers are be stored in p.flags."
   ]
  },
  {
   "cell_type": "code",
   "execution_count": 22,
   "metadata": {},
   "outputs": [
    {
     "name": "stderr",
     "output_type": "stream",
     "text": [
      "INFO:beiwetools.manage.classes:Loaded configuration files.\n",
      "INFO:beiwetools.manage.classes:Finished reading study names.\n",
      "INFO:beiwetools.manage.classes:Finished reading object names.\n",
      "INFO:beiwetools.manage.classes:Updated user name assignments.\n"
     ]
    }
   ],
   "source": [
    "# To attach a configuration file to the project:\n",
    "config_path = config['iOS2']\n",
    "p.update_configurations(config_path)"
   ]
  },
  {
   "cell_type": "code",
   "execution_count": 23,
   "metadata": {},
   "outputs": [
    {
     "name": "stdout",
     "output_type": "stream",
     "text": [
      "----------------------------------------------------------------------\n",
      "Survey Data\n",
      "----------------------------------------------------------------------\n",
      "\n",
      "    survey_answers:\n",
      "                                    Files     Storage\n",
      "        Survey 5                        3      1.4 kB\n",
      "\n",
      "    survey_timings:\n",
      "                                    Files     Storage\n",
      "        Survey 2                        5      2.1 kB\n",
      "        Survey 3                        2      4.8 kB\n",
      "        Survey 5                        8      5.8 kB\n",
      "\n"
     ]
    }
   ],
   "source": [
    "# After attaching a configuration file, object identifiers are replaced with \n",
    "# name assignments from the configuration.\n",
    "\n",
    "# For example, here is the updated survey data summary:\n",
    "lines = p.summary.to_string().split('\\n')\n",
    "for i in lines[38:52]: print(i)"
   ]
  },
  {
   "cell_type": "code",
   "execution_count": 24,
   "metadata": {},
   "outputs": [
    {
     "name": "stdout",
     "output_type": "stream",
     "text": [
      "\n",
      "\n",
      "----------------------------------------------------------------------\n",
      "Identifiers\n",
      "----------------------------------------------------------------------\n",
      "    Beiwe User ID: kiu5hvmv\n",
      "    User Name: Participant 1\n",
      "\n",
      "----------------------------------------------------------------------\n",
      "Raw Data Summary\n",
      "----------------------------------------------------------------------\n",
      "    First Observation: 2016-06-07 18:00:00 UTC\n",
      "    Last  Observation: 2016-06-08 00:00:00 UTC\n",
      "    Observation Period: 0.3 days\n",
      "    Raw Files: 24\n",
      "    Storage: 13.2 MB\n",
      "\n",
      "----------------------------------------------------------------------\n",
      "Device Records\n",
      "----------------------------------------------------------------------\n",
      "    Number of Phones: 1\n",
      "    Phone OS: iOS\n",
      "\n",
      "----------------------------------------------------------------------\n",
      "Registry Issues\n",
      "----------------------------------------------------------------------\n",
      "    Irregular Directories: 0\n",
      "    Unregistered Files: 0\n",
      "\n",
      "----------------------------------------------------------------------\n",
      "Passive Data Summary\n",
      "----------------------------------------------------------------------\n",
      "\n",
      "                      Files    Coverage     Storage\n",
      "    identifiers           1           -   294 Bytes\n",
      "    accelerometer         7        1.00     10.9 MB\n",
      "    gps                   7        1.00    137.2 kB\n",
      "    gyro                  7        1.00      2.1 MB\n",
      "    power_state           1        0.14    71 Bytes\n",
      "    proximity             1           -   121 Bytes\n",
      "\n",
      "----------------------------------------------------------------------\n",
      "Survey Data Summary\n",
      "----------------------------------------------------------------------\n",
      "\n",
      "    survey_answers:\n",
      "                                    Files     Storage\n",
      "        Survey 5                        2   696 Bytes\n",
      "\n",
      "    survey_timings:\n",
      "                                    Files     Storage\n",
      "        Survey 5                        4      4.1 kB\n",
      "\n"
     ]
    }
   ],
   "source": [
    "# Individual user data records are stored in UserData objects.  These are found in p.data.\n",
    "# We can review a summary of each user's data records.  \n",
    "# For example, here is a summary of the first user's raw data:\n",
    "i = p.ids[0]\n",
    "p.data[i].summary.print()"
   ]
  },
  {
   "cell_type": "code",
   "execution_count": 25,
   "metadata": {},
   "outputs": [],
   "source": [
    "# To export a project:\n",
    "path = p.export('iOS_Test_2', test_directory, track_time = False)\n",
    "\n",
    "# Note:  Use track_time = True to isolate the export in a folder labeled with the local datatime.\n",
    "# If track_time = False, any export with the same name will be overwritten."
   ]
  },
  {
   "cell_type": "code",
   "execution_count": 26,
   "metadata": {},
   "outputs": [
    {
     "data": {
      "text/plain": [
       "['records', 'summary.txt', 'overview.csv', 'user_summaries', 'identifiers']"
      ]
     },
     "execution_count": 26,
     "metadata": {},
     "output_type": "execute_result"
    }
   ],
   "source": [
    "# An exported project contains the following files and folders:\n",
    "os.listdir(path)\n",
    "\n",
    "# These are:\n",
    "#    records: A directory of files for reloading the project,\n",
    "#    user_summaries: Text files with summaries of user data,\n",
    "#    identifiers: One CSV for each user; one row for each available identifiers file,\n",
    "#    summary.txt: A copy of the project summary,\n",
    "#    overview.csv: Some information about each user's data records."
   ]
  },
  {
   "cell_type": "code",
   "execution_count": 27,
   "metadata": {},
   "outputs": [
    {
     "name": "stderr",
     "output_type": "stream",
     "text": [
      "INFO:beiwetools.manage.classes:Loaded raw data registry for Beiwe user ID kiu5hvmv.\n",
      "INFO:beiwetools.manage.classes:Loaded raw data registry for Beiwe user ID sxvpopdz.\n",
      "INFO:beiwetools.manage.classes:Loaded configuration files.\n"
     ]
    },
    {
     "data": {
      "text/plain": [
       "True"
      ]
     },
     "execution_count": 27,
     "metadata": {},
     "output_type": "execute_result"
    }
   ],
   "source": [
    "# In the future, we may wish to reload the project:\n",
    "q = BeiweProject.load(path)\n",
    "\n",
    "# Loading from export creates an identical BeiweProject object:\n",
    "p == q"
   ]
  },
  {
   "cell_type": "markdown",
   "metadata": {},
   "source": [
    "### 2.  Create a registry for multiple directories"
   ]
  },
  {
   "cell_type": "code",
   "execution_count": 28,
   "metadata": {},
   "outputs": [
    {
     "name": "stderr",
     "output_type": "stream",
     "text": [
      "WARNING:beiwetools.configread.classes:Found unknown survey type: dummy\n",
      "WARNING:beiwetools.configread.classes:Found unknown survey type: dummy\n",
      "WARNING:beiwetools.configread.classes:Found unknown survey type: dummy\n",
      "INFO:beiwetools.manage.classes:Loaded configuration files.\n",
      "INFO:beiwetools.manage.classes:Finished reading study names.\n",
      "WARNING:beiwetools.manage.classes:Object names are not unique; no object names are assigned.\n",
      "INFO:beiwetools.manage.classes:Created raw data registry for Beiwe user ID 6b38vskd.\n",
      "INFO:beiwetools.manage.classes:Created raw data registry for Beiwe user ID efy3yeum.\n",
      "INFO:beiwetools.manage.classes:Created raw data registry for Beiwe user ID kiu5hvmv.\n",
      "INFO:beiwetools.manage.classes:Created raw data registry for Beiwe user ID lljhljce.\n",
      "INFO:beiwetools.manage.classes:Created raw data registry for Beiwe user ID sxvpopdz.\n",
      "INFO:beiwetools.manage.classes:Created raw data registry for Beiwe user ID tcqrulfj.\n",
      "INFO:beiwetools.manage.classes:Updated user name assignments.\n",
      "INFO:root:Finished generating study records for 6 of 6 users.\n"
     ]
    }
   ],
   "source": [
    "# In some cases we may wish to merge data from Beiwe users enrolled in muliple studies.\n",
    "# First let's make a dictionary attaching user IDs to configurations:\n",
    "configurations = {}\n",
    "for n in study_names:\n",
    "    ids = os.listdir(raw[n])\n",
    "    configurations.update(zip(ids, [config[n]]*len(ids)))\n",
    "\n",
    "# And then create a project with these configuration assignments:\n",
    "r = BeiweProject.create(raw_dirs, user_ids = 'all', configuration = configurations)"
   ]
  },
  {
   "cell_type": "code",
   "execution_count": 29,
   "metadata": {},
   "outputs": [
    {
     "name": "stdout",
     "output_type": "stream",
     "text": [
      "Dummy survey 58b77ae646b9fc10707b0004 from Test Study #1 has been deleted: True\n",
      "Dummy survey 57ffc4ca1206f77c3dfcdfb3 from Test Study #1 has been deleted: True\n",
      "Dummy survey 57ff944e1206f77c3dfcc869 from Test Study #1 has been deleted: True\n"
     ]
    }
   ],
   "source": [
    "# There are some warnings.\n",
    "# First, the logs indicate an unknown \"dummy\" survey type.  \n",
    "# \"Dummy\" surveys are usually inactive (deleted) objects.  Let's verify this.\n",
    "# We can check all the BeiweConfig objects associated with the project:\n",
    "for c_path in r.configurations:\n",
    "    c = r.configurations[c_path]\n",
    "    for sid in c.surveys:\n",
    "        s = c.surveys[sid]\n",
    "        if s.type == 'dummy':\n",
    "            print('Dummy survey %s from %s has been deleted: %s' % (s.identifier, c.name, str(s.deleted)))"
   ]
  },
  {
   "cell_type": "code",
   "execution_count": 30,
   "metadata": {},
   "outputs": [
    {
     "name": "stdout",
     "output_type": "stream",
     "text": [
      "\n",
      "\n",
      "----------------------------------------------------------------------\n",
      "Overview\n",
      "----------------------------------------------------------------------\n",
      "    Unique Beiwe Users: 6\n",
      "    Study Name(s):\n",
      "        HSPH Onnela Lab GPS Testing\n",
      "        HSPH Onnela Lab Passive Data High Sampling\n",
      "        HSPH Onnela Lab iOS Test Study 1\n",
      "        HSPH Onnela Lab iOS Test Study 2\n",
      "        Test Study #1\n",
      "    Raw Data Directories: 5\n",
      "    First Observation: 2016-01-26 19:00:00 UTC\n",
      "    Last  Observation: 2017-02-13 13:00:00 UTC\n",
      "    Project Duration: 383.8 days\n",
      "\n",
      "----------------------------------------------------------------------\n",
      "Device Summary\n",
      "----------------------------------------------------------------------\n",
      "    iPhone Users: 4\n",
      "    Android Users: 2\n",
      "\n",
      "----------------------------------------------------------------------\n",
      "Registry Summary\n",
      "----------------------------------------------------------------------\n",
      "    Raw Files: 18039\n",
      "    Storage: 4.9 GB\n",
      "    Irregular Directories: 0\n",
      "    Unregistered Files: 0\n",
      "\n",
      "----------------------------------------------------------------------\n",
      "Passive Data\n",
      "----------------------------------------------------------------------\n",
      "\n",
      "                      Files     Storage\n",
      "    accelerometer      4741      2.6 GB\n",
      "    app_log            1864     76.9 MB\n",
      "    bluetooth          1470    975.5 MB\n",
      "    calls                 4   659 Bytes\n",
      "    devicemotion          9     33.1 MB\n",
      "    gps                4723    226.0 MB\n",
      "    gyro                 63     18.6 MB\n",
      "    identifiers           6      1.9 kB\n",
      "    magnetometer          9     13.1 MB\n",
      "    power_state        2832      1.3 MB\n",
      "    proximity             9      1.4 kB\n",
      "    reachability        433     59.7 kB\n",
      "    texts                 1   268 Bytes\n",
      "    wifi               1875    996.9 MB\n",
      "\n",
      "----------------------------------------------------------------------\n",
      "Survey Data\n",
      "----------------------------------------------------------------------\n",
      "\n",
      "    survey_answers:\n",
      "                                    Files     Storage\n",
      "        5613cfd497013e703b725e62        1   195 Bytes\n",
      "        571a686a1206f726528d8248       30      2.1 kB\n",
      "        5751ca931206f715072b96c5        2      1.5 kB\n",
      "        5756e64e1206f73b274d4e54        3      1.4 kB\n",
      "        575f0ee81206f707453870f7        8      4.6 kB\n",
      "        57ffc4ca1206f77c3dfcdfb3        7      3.2 kB\n",
      "\n",
      "    survey_timings:\n",
      "                                    Files     Storage\n",
      "        55db4c0597013e3fb50376a7      108     33.0 kB\n",
      "        5613cfd497013e703b725e62        1   472 Bytes\n",
      "        571a686a1206f726528d8248       32      8.9 kB\n",
      "        5751ca931206f715072b96c5        6      2.0 kB\n",
      "        5751cc171206f715072b96c6        3     10.5 kB\n",
      "        5756e64e1206f73b274d4e54        8      5.8 kB\n",
      "        57587d961206f706f213fb8a        2      4.8 kB\n",
      "        57587e411206f706f213fbb8        5      2.1 kB\n",
      "        575f0ee81206f707453870f7      140     43.6 kB\n",
      "        57ffc4ca1206f77c3dfcdfb3       13     14.8 kB\n",
      "\n",
      "----------------------------------------------------------------------\n",
      "Flagged Identifiers\n",
      "----------------------------------------------------------------------\n",
      "    ignored_users: 0\n",
      "    no_registry: 0\n",
      "    without_data: 0\n",
      "    no_identifiers: 0\n",
      "    irregular_directories: 0\n",
      "    multiple_devices: 0\n",
      "    unknown_os: 0\n",
      "    unnamed_objects: 0\n",
      "\n"
     ]
    }
   ],
   "source": [
    "# As before, review the project summary and check if there are any flagged identifiers:\n",
    "r.summary.print()"
   ]
  },
  {
   "cell_type": "code",
   "execution_count": 31,
   "metadata": {},
   "outputs": [
    {
     "name": "stderr",
     "output_type": "stream",
     "text": [
      "WARNING:beiwetools.configread.classes:Found unknown survey type: dummy\n",
      "WARNING:beiwetools.configread.classes:Found unknown survey type: dummy\n",
      "WARNING:beiwetools.configread.classes:Found unknown survey type: dummy\n",
      "WARNING:beiwetools.configread.classes:Found unknown survey type: dummy\n",
      "WARNING:beiwetools.configread.classes:Found unknown survey type: dummy\n",
      "WARNING:beiwetools.configread.classes:Found unknown survey type: dummy\n",
      "INFO:beiwetools.manage.classes:Loaded configuration files.\n",
      "INFO:beiwetools.manage.classes:Finished reading study names.\n",
      "INFO:beiwetools.manage.classes:Finished reading object names.\n",
      "INFO:beiwetools.manage.classes:Updated user name assignments.\n"
     ]
    },
    {
     "name": "stdout",
     "output_type": "stream",
     "text": [
      "\n",
      "----------------------------------------------------------------------\n",
      "Survey Data\n",
      "----------------------------------------------------------------------\n",
      "\n",
      "    survey_answers:\n",
      "                                    Files     Storage\n",
      "        GPS_S3                          1   195 Bytes\n",
      "        HiSamp_S1                      30      2.1 kB\n",
      "        Test_S3                         7      3.2 kB\n",
      "        Test_S5                         8      4.6 kB\n",
      "        iOS1_S5                         2      1.5 kB\n",
      "        iOS2_S5                         3      1.4 kB\n",
      "\n",
      "    survey_timings:\n",
      "                                    Files     Storage\n",
      "        GPS_S3                          1   472 Bytes\n",
      "        HiSamp_S1                      32      8.9 kB\n",
      "        Test_S3                        13     14.8 kB\n",
      "        Test_S5                       140     43.6 kB\n",
      "        Test_S6                       108     33.0 kB\n",
      "        iOS1_S4                         3     10.5 kB\n",
      "        iOS1_S5                         6      2.0 kB\n",
      "        iOS2_S2                         5      2.1 kB\n",
      "        iOS2_S3                         2      4.8 kB\n",
      "        iOS2_S5                         8      5.8 kB\n",
      "\n"
     ]
    }
   ],
   "source": [
    "# The logging warnings also indicated that object names aren't unique.\n",
    "# For example, several studies may have an object named \"Survey 1\".\n",
    "# Ideally, this should be addressed before creating a BeiweProject.\n",
    "\n",
    "# We can also handle this with the update_configurations() method. \n",
    "# To do this, first assign some shorter names:\n",
    "new_paths = {}\n",
    "for n in study_names:\n",
    "    temp = BeiweConfig(config[n])\n",
    "    old_object_names = list(temp.name_assignments.values())\n",
    "    new_object_names = [s.replace('Survey ', n + '_S') for s in old_object_names]\n",
    "    temp.update_names(dict(zip(old_object_names, new_object_names)))\n",
    "    new_paths[config[n]] = temp.export(test_directory, track_time = False)\n",
    "    \n",
    "# Then update the configuration assignments:    \n",
    "for i in configurations:\n",
    "    configurations[i] = new_paths[configurations[i]]\n",
    "\n",
    "# And finally update the project with the new configuration paths:\n",
    "r.update_configurations(configurations)\n",
    "\n",
    "# Note: We can ignore the warnings about 'dummy' surveys since we already reviewed them.\n",
    "\n",
    "# Here is what the new names look like:\n",
    "lines = r.summary.to_string().split('\\n')\n",
    "for i in lines[50:77]: print(i)"
   ]
  },
  {
   "cell_type": "code",
   "execution_count": 32,
   "metadata": {},
   "outputs": [],
   "source": [
    "# If desired, uncomment the following lines and delete the test output directory:\n",
    "#import shutil\n",
    "#shutil.rmtree(test_directory)"
   ]
  }
 ],
 "metadata": {
  "kernelspec": {
   "display_name": "Python 3",
   "language": "python",
   "name": "python3"
  },
  "language_info": {
   "codemirror_mode": {
    "name": "ipython",
    "version": 3
   },
   "file_extension": ".py",
   "mimetype": "text/x-python",
   "name": "python",
   "nbconvert_exporter": "python",
   "pygments_lexer": "ipython3",
   "version": "3.8.1"
  }
 },
 "nbformat": 4,
 "nbformat_minor": 2
}
