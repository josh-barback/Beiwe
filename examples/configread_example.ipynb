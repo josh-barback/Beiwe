{
 "cells": [
  {
   "cell_type": "markdown",
   "metadata": {},
   "source": [
    "Josh Barback  \n",
    "`barback@fas.harvard.edu`  \n",
    "Onnela Lab, Harvard T. H. Chan School of Public Health  "
   ]
  },
  {
   "cell_type": "markdown",
   "metadata": {},
   "source": [
    "# Working with Beiwe study configurations\n",
    "\n",
    "This notebook provides an overview of some features of the `beiwetools.configread` subpackage.\n",
    "\n",
    "This module provides classes for representing Beiwe study settings that are stored in JSON configuration files.  These examples include code for the following tasks:\n",
    "\n",
    "1. Read a Beiwe configuration file,\n",
    "2. Query specific configuration settings,\n",
    "3. Generate human-readable documentation,\n",
    "4. Inspect a tracking survey question,\n",
    "5. Assign names to study objects."
   ]
  },
  {
   "cell_type": "markdown",
   "metadata": {},
   "source": [
    "### 1. Read a Beiwe configuration file"
   ]
  },
  {
   "cell_type": "code",
   "execution_count": 1,
   "metadata": {},
   "outputs": [],
   "source": [
    "import os\n",
    "from beiwetools.configread import BeiweConfig"
   ]
  },
  {
   "cell_type": "code",
   "execution_count": 2,
   "metadata": {},
   "outputs": [],
   "source": [
    "# Sample configuration files are located in examples/configuration_files.\n",
    "examples_directory = os.getcwd() # change as needed\n",
    "configuration_directory = os.path.join(examples_directory, 'configuration_files')\n",
    "\n",
    "# We'll be looking at the following configuration file:\n",
    "configuration_filename = 'json file from a generic Beiwe study.json'\n",
    "configuration_path = os.path.join(configuration_directory, configuration_filename)\n",
    "\n",
    "# Choose a directory for test ouput:\n",
    "test_directory = os.path.join(examples_directory, 'test') # change as needed"
   ]
  },
  {
   "cell_type": "code",
   "execution_count": 3,
   "metadata": {},
   "outputs": [],
   "source": [
    "# Read the configuration file into a BeiweConfig object:\n",
    "config = BeiweConfig(configuration_path)"
   ]
  },
  {
   "cell_type": "code",
   "execution_count": 4,
   "metadata": {},
   "outputs": [
    {
     "name": "stdout",
     "output_type": "stream",
     "text": [
      "OrderedDict([('device_settings', OrderedDict([('accelerometer_on_duration_seconds', 10), ('proximity', True), ('bluetooth', False), ('texts', True), ('gps_off_duration_seconds', 1200), ('gyro_on_duration_seconds', 60), ('magnetometer_off_duration_seconds', 1200), ('seconds_before_auto_logout', 600), ('wifi_log_frequency_seconds', 300), ('accelerometer', True), ('gps_on_duration_seconds', 60), ('magnetometer_on_duration_seconds', 60), ('consent_form_text', 'I have read and understood the information about the study and all of my questions about the study have been answered by the study staff.'), ('upload_data_files_frequency_seconds', 3600), ('devicemotion_on_duration_seconds', 60), ('power_state', True), ('gps', True), ('magnetometer', False), ('bluetooth_total_duration_seconds', 300), ('accelerometer_off_duration_seconds', 1250), ('about_page_text', 'The Beiwe application runs on your phone and helps researchers collect information about your behaviors. Beiwe may ask you to fill out short surveys or to record your voice. It may collect information about your location (using phone GPS) and how much you move (using phone accelerometer). \\r\\n\\r\\nAlthough Beiwe collects large amounts of data, the data is encrypted to protect your privacy. This means that it does not know your name, your phone number, or anything else that could identify you. Beiwe only knows you by an identification number. Because Beiwe does not know who you are, it cannot communicate with your clinician if you are ill or in danger. \\r\\n\\r\\nBeiwe was conceived and designed by Dr. JP Onnela at the Harvard T.H. Chan School of Public Health. Development of the Beiwe smartphone application and data analysis software is funded by NIH grant 1DP2MH103909-01 to Dr. Onnela. The smartphone application was built by Rocket Farm Studios in Boston, Massachusetts. '), ('check_for_new_surveys_frequency_seconds', 21600), ('devicemotion_off_duration_seconds', 1200), ('survey_submit_success_toast_text', 'Thank you for completing the survey!  '), ('create_new_data_files_frequency_seconds', 900), ('consent_sections', OrderedDict([('privacy', OrderedDict([('text', ''), ('more', '')])), ('withdrawing', OrderedDict([('text', ''), ('more', '')])), ('welcome', OrderedDict([('text', ''), ('more', '')])), ('data_gathering', OrderedDict([('text', ''), ('more', '')])), ('time_commitment', OrderedDict([('text', ''), ('more', '')])), ('study_tasks', OrderedDict([('text', ''), ('more', '')])), ('study_survey', OrderedDict([('text', ''), ('more', '')]))])), ('voice_recording_max_time_length_seconds', 120), ('devicemotion', False), ('bluetooth_on_duration_seconds', 60), ('call_clinician_button_text', 'Call Study Staff'), ('calls', True), ('allow_upload_over_cellular_data', False), ('gyro', False), ('wifi', True), ('reachability', True), ('_id', OrderedDict([('$oid', '55d231c197013e3a1c9b8c30')])), ('gyro_off_duration_seconds', 1200), ('bluetooth_global_offset_seconds', 0)])), ('surveys', [OrderedDict([('content', [OrderedDict([('prompt', 'This is an Audio Survey.  Please read the following prompt: The function of education is to teach one to think intensively and to think critically. Intelligence plus character - that is the goal of true education. Martin Luther King, Jr.')])]), ('survey_type', 'audio_survey'), ('_id', OrderedDict([('$oid', '55db4c0597013e3fb50376a7')])), ('timings', [[37800], [37800], [37800], [37800], [37800], [37800], [37800]]), ('settings', OrderedDict([('bit_rate', 64000), ('audio_survey_type', 'compressed'), ('trigger_on_first_download', False)]))]), OrderedDict([('content', [OrderedDict([('question_text', 'Please check any that apply to you today.'), ('answers', [OrderedDict([('text', 'Little interest in doing things')]), OrderedDict([('text', 'Trouble falling asleep')]), OrderedDict([('text', 'Poor appetite')]), OrderedDict([('text', 'Trouble concentrating')])]), ('question_type', 'checkbox'), ('question_id', '6c4ae7d9-6a69-4a58-ce65-aeb660a83e2d')]), OrderedDict([('max', '10'), ('question_text', 'How good is your overall mood? (1=lowest possible 10=highest possible)'), ('min', '1'), ('question_type', 'slider'), ('question_id', 'c67d8bec-9ea3-45a6-ee31-fe00ee58660c')]), OrderedDict([('question_text', 'How many people did you talk to today?'), ('answers', [OrderedDict([('text', 'None')]), OrderedDict([('text', 'One or two')]), OrderedDict([('text', 'Three to five')]), OrderedDict([('text', 'Six or more')])]), ('question_type', 'radio_button'), ('question_id', '04e4c452-c7bd-4105-e1ce-389cee4f5d63')])]), ('survey_type', 'tracking_survey'), ('_id', OrderedDict([('$oid', '575f0ee81206f707453870f7')])), ('timings', [[32400], [32400], [32400], [32400], [32400], [32400], [32400]]), ('settings', OrderedDict([('number_of_random_questions', None), ('trigger_on_first_download', True), ('randomize', False), ('randomize_with_memory', False)]))])])])\n"
     ]
    }
   ],
   "source": [
    "# A deserialized version of the original JSON file is retained as ordered dictionaries and lists.\n",
    "print(config.raw)"
   ]
  },
  {
   "cell_type": "code",
   "execution_count": 5,
   "metadata": {},
   "outputs": [
    {
     "name": "stdout",
     "output_type": "stream",
     "text": [
      "[]\n"
     ]
    }
   ],
   "source": [
    "# Undocumented settings or objects in the configuration file are logged as warnings.\n",
    "# They are also stored in the 'warnings' attribute.  In this case, there should be no warnings:\n",
    "print(config.warnings)"
   ]
  },
  {
   "cell_type": "markdown",
   "metadata": {},
   "source": [
    "### 2. Query specific configuration settings"
   ]
  },
  {
   "cell_type": "code",
   "execution_count": 6,
   "metadata": {},
   "outputs": [
    {
     "data": {
      "text/plain": [
       "OrderedDict([('allow_upload_over_cellular_data', False),\n",
       "             ('create_new_data_files_frequency_seconds', 900),\n",
       "             ('seconds_before_auto_logout', 600),\n",
       "             ('upload_data_files_frequency_seconds', 3600),\n",
       "             ('use_anonymized_hashing', 'Not found'),\n",
       "             ('use_gps_fuzzing', 'Not found')])"
      ]
     },
     "execution_count": 6,
     "metadata": {},
     "output_type": "execute_result"
    }
   ],
   "source": [
    "# Study settings are organized into several ordered dictionaries.\n",
    "# Due to differences across configuration file formats, it's normal that some settings are \"Not found.\"\n",
    "\n",
    "# For example, here are the settings for overall Beiwe app behavior:\n",
    "config.settings.app\n",
    "\n",
    "# Settings that affect all surveys:\n",
    "# config.settings.survey\n",
    "\n",
    "# Settings for passive data collection:\n",
    "# config.settings.passive\n",
    "\n",
    "# Settings for text displayed by the app:\n",
    "# config.settings.display\n",
    "\n",
    "# Undocumented / unknown settings:\n",
    "# config.settings.other"
   ]
  },
  {
   "cell_type": "code",
   "execution_count": 7,
   "metadata": {},
   "outputs": [
    {
     "data": {
      "text/plain": [
       "120"
      ]
     },
     "execution_count": 7,
     "metadata": {},
     "output_type": "execute_result"
    }
   ],
   "source": [
    "# Documented settings are found in the file .../beiwetools/configread/study_settings.json\n",
    "# Query a specific setting with its key:\n",
    "config.settings.survey['voice_recording_max_time_length_seconds']"
   ]
  },
  {
   "cell_type": "code",
   "execution_count": 8,
   "metadata": {},
   "outputs": [
    {
     "name": "stdout",
     "output_type": "stream",
     "text": [
      "accelerometer: True\n",
      "accelerometer_off_duration_seconds: 1250\n",
      "accelerometer_on_duration_seconds: 10\n"
     ]
    }
   ],
   "source": [
    "# To see all passive data settings for a particular sensor:\n",
    "sensor = 'accelerometer'\n",
    "for k in config.settings.passive.keys():\n",
    "    if sensor in k: \n",
    "        print('%s: %s' % (k, config.settings.passive[k]))"
   ]
  },
  {
   "cell_type": "markdown",
   "metadata": {},
   "source": [
    "### 3. Generate human-readable documentation"
   ]
  },
  {
   "cell_type": "code",
   "execution_count": 9,
   "metadata": {},
   "outputs": [
    {
     "name": "stdout",
     "output_type": "stream",
     "text": [
      "['audio_surveys', 'settings', 'records', 'overview.txt', 'tracking_surveys', 'warnings.txt']\n"
     ]
    }
   ],
   "source": [
    "# Human-readable summaries can be exported to text files.  \n",
    "documentation_path = config.export(test_directory)\n",
    "print(os.listdir(documentation_path))\n",
    "\n",
    "# Documentation includes:\n",
    "#     - human-readable summaries of settings and surveys,\n",
    "#     - a log of any unknown settings or study objects,\n",
    "#     - records of paths to JSON files used to instantiate this BeiweConfig object,\n",
    "#     - pretty-printed copies of those JSON files."
   ]
  },
  {
   "cell_type": "code",
   "execution_count": 10,
   "metadata": {},
   "outputs": [
    {
     "name": "stdout",
     "output_type": "stream",
     "text": [
      "\n",
      "\n",
      "----------------------------------------------------------------------\n",
      "json file from a generic Beiwe study\n",
      "----------------------------------------------------------------------\n",
      "    Identifier: 55d231c197013e3a1c9b8c30\n",
      "    MongDB Extended JSON format: True\n",
      "    Default names: True\n",
      "\n",
      "----------------------------------------------------------------------\n",
      "Number of Surveys\n",
      "----------------------------------------------------------------------\n",
      "    Audio Surveys: 1\n",
      "    Tracking Surveys: 1\n",
      "    Other Surveys: 0\n",
      "\n",
      "\n",
      "\n",
      "----------------------------------------------------------------------\n",
      "Passive Data Settings\n",
      "----------------------------------------------------------------------\n",
      "    accelerometer: True\n",
      "    accelerometer_off_duration_seconds: 1250\n",
      "    accelerometer_on_duration_seconds: 10\n",
      "    bluetooth: False\n",
      "    bluetooth_global_offset_seconds: 0\n",
      "    bluetooth_on_duration_seconds: 60\n",
      "    bluetooth_total_duration_seconds: 300\n",
      "    calls: True\n",
      "    devicemotion: False\n",
      "    devicemotion_off_duration_seconds: 1200\n",
      "    devicemotion_on_duration_seconds: 60\n",
      "    gps: True\n",
      "    gps_off_duration_seconds: 1200\n",
      "    gps_on_duration_seconds: 60\n",
      "    gyro: False\n",
      "    gyro_off_duration_seconds: 1200\n",
      "    gyro_on_duration_seconds: 60\n",
      "    magnetometer: False\n",
      "    magnetometer_off_duration_seconds: 1200\n",
      "    magnetometer_on_duration_seconds: 60\n",
      "    power_state: True\n",
      "    proximity: True\n",
      "    reachability: True\n",
      "    texts: True\n",
      "    wifi: True\n",
      "    wifi_log_frequency_seconds: 300\n",
      "\n"
     ]
    }
   ],
   "source": [
    "# Human-readable summaries can also be printed, for example:\n",
    "config.summary.print() # configuration overview\n",
    "config.settings.passive_summary.print() # settings for passive data collection"
   ]
  },
  {
   "cell_type": "code",
   "execution_count": 11,
   "metadata": {},
   "outputs": [
    {
     "name": "stdout",
     "output_type": "stream",
     "text": [
      "\n",
      "Survey_1\n",
      "\n",
      "----------------------------------------------------------------------\n",
      "Info\n",
      "----------------------------------------------------------------------\n",
      "    id: Not found\n",
      "    _id:\n",
      "        $oid: 55db4c0597013e3fb50376a7\n",
      "    object_id: Not found\n",
      "    survey_type: audio_survey\n",
      "    deleted: Not found\n",
      "\n",
      "----------------------------------------------------------------------\n",
      "Settings\n",
      "----------------------------------------------------------------------\n",
      "    audio_survey_type: compressed\n",
      "    bit_rate: 64000\n",
      "    trigger_on_first_download: False\n",
      "    sample_rate: Not found\n",
      "\n",
      "----------------------------------------------------------------------\n",
      "Timings\n",
      "----------------------------------------------------------------------\n",
      "    Sun: 10:30\n",
      "    Mon: 10:30\n",
      "    Tue: 10:30\n",
      "    Wed: 10:30\n",
      "    Thu: 10:30\n",
      "    Fri: 10:30\n",
      "    Sat: 10:30\n",
      "\n",
      "----------------------------------------------------------------------\n",
      "Prompt\n",
      "----------------------------------------------------------------------\n",
      "    This is an Audio Survey.  Please read the following prompt: The\n",
      "    function of education is to teach one to think intensively and to\n",
      "    think critically. Intelligence plus character - that is the goal\n",
      "    of true education. Martin Luther King, Jr.\n",
      "\n",
      "\n",
      "######################################################################\n",
      "\n",
      "\n",
      "Survey_2\n",
      "\n",
      "----------------------------------------------------------------------\n",
      "Info\n",
      "----------------------------------------------------------------------\n",
      "    id: Not found\n",
      "    _id:\n",
      "        $oid: 575f0ee81206f707453870f7\n",
      "    object_id: Not found\n",
      "    survey_type: tracking_survey\n",
      "    deleted: Not found\n",
      "\n",
      "----------------------------------------------------------------------\n",
      "Settings\n",
      "----------------------------------------------------------------------\n",
      "    randomize: False\n",
      "    trigger_on_first_download: True\n",
      "    randomize_with_memory: False\n",
      "    number_of_random_questions: Not found\n",
      "\n",
      "----------------------------------------------------------------------\n",
      "Timings\n",
      "----------------------------------------------------------------------\n",
      "    Sun: 09:00\n",
      "    Mon: 09:00\n",
      "    Tue: 09:00\n",
      "    Wed: 09:00\n",
      "    Thu: 09:00\n",
      "    Fri: 09:00\n",
      "    Sat: 09:00\n",
      "\n",
      "----------------------------------------------------------------------\n",
      "Questions\n",
      "----------------------------------------------------------------------\n",
      "\n",
      "    Survey_2_Question_1:\n",
      "        question_id: 6c4ae7d9-6a69-4a58-ce65-aeb660a83e2d\n",
      "        question_type: checkbox\n",
      "        display_if: Does not use branching logic.\n",
      "        question_text: Please check any that apply to you today.\n",
      "        answers:\n",
      "            0: Little interest in doing things\n",
      "            1: Trouble falling asleep\n",
      "            2: Poor appetite\n",
      "            3: Trouble concentrating\n",
      "\n",
      "    Survey_2_Question_2:\n",
      "        question_id: c67d8bec-9ea3-45a6-ee31-fe00ee58660c\n",
      "        question_type: slider\n",
      "        display_if: Does not use branching logic.\n",
      "        question_text:\n",
      "            How good is your overall mood? (1=lowest possible\n",
      "            10=highest possible)\n",
      "        min: 1\n",
      "        max: 10\n",
      "\n",
      "    Survey_2_Question_3:\n",
      "        question_id: 04e4c452-c7bd-4105-e1ce-389cee4f5d63\n",
      "        question_type: radio_button\n",
      "        display_if: Does not use branching logic.\n",
      "        question_text: How many people did you talk to today?\n",
      "        answers:\n",
      "            0: None\n",
      "            1: One or two\n",
      "            2: Three to five\n",
      "            3: Six or more\n",
      "\n",
      "\n",
      "######################################################################\n",
      "\n"
     ]
    }
   ],
   "source": [
    "# This study has one audio survey and one tracking survey.\n",
    "# Their identifiers are:\n",
    "audio_id = config.audio_surveys[0]\n",
    "tracking_id = config.tracking_surveys[0]\n",
    "\n",
    "# We can print summaries of these surveys:\n",
    "for survey_id in [audio_id, tracking_id]:\n",
    "    s = config.surveys[survey_id]\n",
    "    s.summary.print()\n",
    "    print('\\n' + 70*'#' + '\\n')"
   ]
  },
  {
   "cell_type": "markdown",
   "metadata": {},
   "source": [
    "### 4. Inspect a tracking survey question"
   ]
  },
  {
   "cell_type": "code",
   "execution_count": 12,
   "metadata": {},
   "outputs": [
    {
     "name": "stdout",
     "output_type": "stream",
     "text": [
      "\n",
      "Survey_2_Question_3\n",
      "\n",
      "----------------------------------------------------------------------\n",
      "question_id\n",
      "----------------------------------------------------------------------\n",
      "    04e4c452-c7bd-4105-e1ce-389cee4f5d63\n",
      "\n",
      "----------------------------------------------------------------------\n",
      "question_type\n",
      "----------------------------------------------------------------------\n",
      "    radio_button\n",
      "\n",
      "----------------------------------------------------------------------\n",
      "display_if\n",
      "----------------------------------------------------------------------\n",
      "    Does not use branching logic.\n",
      "\n",
      "----------------------------------------------------------------------\n",
      "question_text\n",
      "----------------------------------------------------------------------\n",
      "    How many people did you talk to today?\n",
      "\n",
      "----------------------------------------------------------------------\n",
      "answers\n",
      "----------------------------------------------------------------------\n",
      "    0: None\n",
      "    1: One or two\n",
      "    2: Three to five\n",
      "    3: Six or more\n",
      "\n"
     ]
    }
   ],
   "source": [
    "# First look up the question identifier.  \n",
    "# Note that the name_lookup dictionary is only available when assigned names are unique.\n",
    "qid = config.name_lookup['Survey_2_Question_3']\n",
    "\n",
    "# Get the corresponding TrackingQuestion object:\n",
    "s2q3 = config.surveys[tracking_id].questions[qid]\n",
    "\n",
    "# And print a summary of this question:\n",
    "s2q3.summary.print()"
   ]
  },
  {
   "cell_type": "code",
   "execution_count": 13,
   "metadata": {},
   "outputs": [
    {
     "name": "stdout",
     "output_type": "stream",
     "text": [
      "radio_button\n",
      "How many people did you talk to today?\n",
      "['None', 'One or two', 'Three to five', 'Six or more']\n"
     ]
    }
   ],
   "source": [
    "# Specific attributes can be queried directly:\n",
    "print(s2q3.type)\n",
    "print(s2q3.info['question_text'])\n",
    "print(s2q3.answers)"
   ]
  },
  {
   "cell_type": "code",
   "execution_count": 14,
   "metadata": {},
   "outputs": [
    {
     "name": "stdout",
     "output_type": "stream",
     "text": [
      "None\n"
     ]
    }
   ],
   "source": [
    "# Branching logic isn't implemented for this question.\n",
    "# If it were, the logic configuration could be viewed with:\n",
    "print(s2q3.logic)"
   ]
  },
  {
   "cell_type": "markdown",
   "metadata": {},
   "source": [
    "### 5. Assign names to study objects"
   ]
  },
  {
   "cell_type": "code",
   "execution_count": 15,
   "metadata": {},
   "outputs": [
    {
     "data": {
      "text/plain": [
       "OrderedDict([('55d231c197013e3a1c9b8c30',\n",
       "              'json file from a generic Beiwe study'),\n",
       "             ('55db4c0597013e3fb50376a7', 'Survey_1'),\n",
       "             ('575f0ee81206f707453870f7', 'Survey_2'),\n",
       "             ('6c4ae7d9-6a69-4a58-ce65-aeb660a83e2d', 'Survey_2_Question_1'),\n",
       "             ('c67d8bec-9ea3-45a6-ee31-fe00ee58660c', 'Survey_2_Question_2'),\n",
       "             ('04e4c452-c7bd-4105-e1ce-389cee4f5d63', 'Survey_2_Question_3')])"
      ]
     },
     "execution_count": 15,
     "metadata": {},
     "output_type": "execute_result"
    }
   ],
   "source": [
    "# Default survey and question names are assigned in the order they appear in the original JSON file.\n",
    "# For convenience, it may be desirable to assign different names to surveys and questions.\n",
    "# Here are the current name assignments:\n",
    "config.name_assignments"
   ]
  },
  {
   "cell_type": "code",
   "execution_count": 16,
   "metadata": {},
   "outputs": [
    {
     "data": {
      "text/plain": [
       "OrderedDict([('55d231c197013e3a1c9b8c30', 'Generic_Study'),\n",
       "             ('55db4c0597013e3fb50376a7', 'Sample_Audio_Survey'),\n",
       "             ('575f0ee81206f707453870f7', 'Sample_Tracking_Survey'),\n",
       "             ('6c4ae7d9-6a69-4a58-ce65-aeb660a83e2d', 'Checkbox_Example'),\n",
       "             ('c67d8bec-9ea3-45a6-ee31-fe00ee58660c', 'Slider_Example'),\n",
       "             ('04e4c452-c7bd-4105-e1ce-389cee4f5d63', 'Radio_Button_Example')])"
      ]
     },
     "execution_count": 16,
     "metadata": {},
     "output_type": "execute_result"
    }
   ],
   "source": [
    "# To assign new names:\n",
    "old_names = list(config.name_assignments.values())\n",
    "new_names = ['Generic_Study', 'Sample_Audio_Survey', 'Sample_Tracking_Survey', \n",
    "             'Checkbox_Example', 'Slider_Example', 'Radio_Button_Example']\n",
    "new_assignments = dict(zip(old_names, new_names))\n",
    "config.update_names(new_assignments)\n",
    "\n",
    "# The names have been updated:\n",
    "config.name_assignments"
   ]
  },
  {
   "cell_type": "code",
   "execution_count": 17,
   "metadata": {},
   "outputs": [
    {
     "name": "stdout",
     "output_type": "stream",
     "text": [
      "\n",
      "Sample_Tracking_Survey\n",
      "\n",
      "----------------------------------------------------------------------\n",
      "Info\n",
      "----------------------------------------------------------------------\n",
      "    id: Not found\n",
      "    _id:\n",
      "        $oid: 575f0ee81206f707453870f7\n",
      "    object_id: Not found\n",
      "    survey_type: tracking_survey\n",
      "    deleted: Not found\n",
      "\n",
      "----------------------------------------------------------------------\n",
      "Settings\n",
      "----------------------------------------------------------------------\n",
      "    randomize: False\n",
      "    trigger_on_first_download: True\n",
      "    randomize_with_memory: False\n",
      "    number_of_random_questions: Not found\n",
      "\n",
      "----------------------------------------------------------------------\n",
      "Timings\n",
      "----------------------------------------------------------------------\n",
      "    Sun: 09:00\n",
      "    Mon: 09:00\n",
      "    Tue: 09:00\n",
      "    Wed: 09:00\n",
      "    Thu: 09:00\n",
      "    Fri: 09:00\n",
      "    Sat: 09:00\n",
      "\n",
      "----------------------------------------------------------------------\n",
      "Questions\n",
      "----------------------------------------------------------------------\n",
      "\n",
      "    Checkbox_Example:\n",
      "        question_id: 6c4ae7d9-6a69-4a58-ce65-aeb660a83e2d\n",
      "        question_type: checkbox\n",
      "        display_if: Does not use branching logic.\n",
      "        question_text: Please check any that apply to you today.\n",
      "        answers:\n",
      "            0: Little interest in doing things\n",
      "            1: Trouble falling asleep\n",
      "            2: Poor appetite\n",
      "            3: Trouble concentrating\n",
      "\n",
      "    Slider_Example:\n",
      "        question_id: c67d8bec-9ea3-45a6-ee31-fe00ee58660c\n",
      "        question_type: slider\n",
      "        display_if: Does not use branching logic.\n",
      "        question_text:\n",
      "            How good is your overall mood? (1=lowest possible\n",
      "            10=highest possible)\n",
      "        min: 1\n",
      "        max: 10\n",
      "\n",
      "    Radio_Button_Example:\n",
      "        question_id: 04e4c452-c7bd-4105-e1ce-389cee4f5d63\n",
      "        question_type: radio_button\n",
      "        display_if: Does not use branching logic.\n",
      "        question_text: How many people did you talk to today?\n",
      "        answers:\n",
      "            0: None\n",
      "            1: One or two\n",
      "            2: Three to five\n",
      "            3: Six or more\n",
      "\n"
     ]
    }
   ],
   "source": [
    "# Object summaries will use the new names.  For example:\n",
    "config.surveys[tracking_id].summary.print()"
   ]
  },
  {
   "cell_type": "code",
   "execution_count": 18,
   "metadata": {},
   "outputs": [
    {
     "name": "stdout",
     "output_type": "stream",
     "text": [
      "True\n",
      "True\n"
     ]
    }
   ],
   "source": [
    "# After renaming study objects, export the configuration.\n",
    "documentation_path = config.export(test_directory)\n",
    "\n",
    "# In the future, to keep the same name assignments, load the study configuration from the exported documentation.\n",
    "config_from_export = BeiweConfig(documentation_path)\n",
    "\n",
    "# Verify that study objects match:\n",
    "print(config_from_export == config)\n",
    "\n",
    "# Check that name assignments are retained:\n",
    "print(config_from_export.name_assignments == config.name_assignments)"
   ]
  },
  {
   "cell_type": "code",
   "execution_count": 19,
   "metadata": {},
   "outputs": [],
   "source": [
    "# If desired, uncomment the following lines and delete the test output directory:\n",
    "# import shutil\n",
    "# shutil.rmtree(test_directory)"
   ]
  }
 ],
 "metadata": {
  "kernelspec": {
   "display_name": "Python 3",
   "language": "python",
   "name": "python3"
  },
  "language_info": {
   "codemirror_mode": {
    "name": "ipython",
    "version": 3
   },
   "file_extension": ".py",
   "mimetype": "text/x-python",
   "name": "python",
   "nbconvert_exporter": "python",
   "pygments_lexer": "ipython3",
   "version": "3.7.4"
  }
 },
 "nbformat": 4,
 "nbformat_minor": 2
}
